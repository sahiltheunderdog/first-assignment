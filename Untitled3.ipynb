{
  "nbformat": 4,
  "nbformat_minor": 0,
  "metadata": {
    "colab": {
      "provenance": [],
      "authorship_tag": "ABX9TyPj7/dcUW6K2MbvhTU9mDs0",
      "include_colab_link": true
    },
    "kernelspec": {
      "name": "python3",
      "display_name": "Python 3"
    },
    "language_info": {
      "name": "python"
    }
  },
  "cells": [
    {
      "cell_type": "markdown",
      "metadata": {
        "id": "view-in-github",
        "colab_type": "text"
      },
      "source": [
        "<a href=\"https://colab.research.google.com/github/sahiltheunderdog/first-assignment/blob/main/Untitled3.ipynb\" target=\"_parent\"><img src=\"https://colab.research.google.com/assets/colab-badge.svg\" alt=\"Open In Colab\"/></a>"
      ]
    },
    {
      "cell_type": "markdown",
      "source": [
        "Q1.L is a list defined as L= [11, 12, 13, 14]. (i) WAP to add 50 and 60 to L. (ii) WAP to remove 11 and 13from L. (iii) WAP to sort L in ascending order. (iv) WAP to sort L in descending order. (v) WAP to search for 13 in L. (vi) WAP to count the number of elements present in L. (vii) WAP to sum all the elements in L. (viii) WAP to sum all ODD numbers in L. (ix) WAP to sum all EVEN numbers in L. (x) WAP to sum all PRIME numbers in L. (xi) WAP to clear all the elements in L. (xii) WAP to delete L."
      ],
      "metadata": {
        "id": "NckcNIJar2lc"
      }
    },
    {
      "cell_type": "code",
      "execution_count": null,
      "metadata": {
        "id": "ewjVF3DNrsir"
      },
      "outputs": [],
      "source": [
        "L = [11, 12, 13, 14]\n",
        "#add elemt using append\n",
        "L.append(50)\n",
        "L.append(60)\n",
        "print(L)\n",
        "#delete element using remove\n",
        "L.remove(11)\n",
        "L.remove(13)\n",
        "print(L)\n",
        "#sort elements\n",
        "L.sort()\n",
        "print(L)\n",
        "L.sort(reverse=True)\n",
        "print(L)\n",
        "#searching element\n",
        "if 13 in L:\n",
        "    print(\"present\")\n",
        "else:\n",
        "    print(\"absent\")\n",
        "#print length\n",
        "print(len(L))\n",
        "#sum of elements\n",
        "print(sum(L))\n",
        "#sum of odd\n",
        "print(\"sum of odd=\",sum(x for x in L if x % 2 != 0))\n",
        "#sum of even\n",
        "print(\"sum of even=\",sum(x for x in L if x % 2 == 0))\n",
        "#sum of prime\n",
        "def is_prime(n):\n",
        "    if n < 2:\n",
        "        return False\n",
        "    for i in range(2, n//2+1):\n",
        "        if n % i == 0:\n",
        "            return False\n",
        "    return True\n",
        "\n",
        "print(sum(x for x in L if is_prime(x)))\n",
        "#clear list\n",
        "L.clear()\n",
        "print(L)\n",
        "#delete list\n",
        "del L\n"
      ]
    }
  ]
}